{
 "cells": [
  {
   "attachments": {},
   "cell_type": "markdown",
   "id": "24f56c42",
   "metadata": {},
   "source": [
    "# 🎌 Matcha Brand Recommendation: Prompt Engineering Demo\n",
    "\n",
    "This notebook demonstrates how different levels of prompt structure impact the quality and depth of responses from LLMs.\n",
    "We compare three types:\n",
    "\n",
    "1. **Shallow Prompt** (basic query)\n",
    "2. **Blueprint-Activated Prompt** (structured dimensions)\n",
    "3. **Coaching-Style Prompt** (interactive self-discovery)\n",
    "\n",
    "Each is framed to recommend Japanese matcha brands, but with increasing semantic depth."
   ]
  },
  {
   "attachments": {},
   "cell_type": "markdown",
   "id": "7e32ecd4",
   "metadata": {},
   "source": [
    "## 🧪 Prompt A: Shallow Baseline"
   ]
  },
  {
   "cell_type": "code",
   "execution_count": null,
   "id": "cf689692",
   "metadata": {},
   "outputs": [],
   "source": [
    "prompt_a = \"What are some recommended brands for Japanese matcha?\"\n",
    "\n",
    "call_model(prompt_a)\n",
    "\n",
    "\"Ippodo, Marukyu-Koyamaen, Naoki, Matcha.com, Encha, Jade Leaf, and Matchaeologist are all highly recommended Japanese matcha brands.\""
   ]
  },
  {
   "attachments": {},
   "cell_type": "markdown",
   "id": "548003eb",
   "metadata": {},
   "source": [
    "💬 **Comment:**\n",
    "> This gives surface-level information, mostly based on popularity or SEO. There's no depth in use-case, cultural context, or flavor profile."
   ]
  },
  {
   "attachments": {},
   "cell_type": "markdown",
   "id": "425d00c6",
   "metadata": {},
   "source": [
    "## 🧠 Prompt B: Blueprint-Activated Prompt"
   ]
  },
  {
   "cell_type": "code",
   "execution_count": null,
   "id": "631fcb06",
   "metadata": {},
   "outputs": [],
   "source": [
    "prompt_b = \"\"\"I’m researching Japanese matcha brands.\n",
    "Please categorize your recommendations by:\n",
    "1. Flavor profile (umami vs bitterness)\n",
    "2. Intended use (ceremonial vs daily drinking)\n",
    "3. Brand origin and cultural positioning (traditional vs modern reinterpretation)\n",
    "\n",
    "Then, add a less-known artisanal brand and why it’s underappreciated.\"\"\"\n",
    "\n",
    "call_model(prompt_b)\n",
    "\"\"\"\n",
    " Ippodo (umami, ceremonial, traditional Kyoto), Marukyu Koyamaen (balanced, ceremonial/daily, heritage Uji),\n",
    " Naoki (modern bitter-leaning, daily, global-friendly), and artisanal Nijo Wakasaya (deep umami, ceremonial, Kyoto-local), \n",
    " often overlooked for its small-batch freshness and historic craftsmanship.\n",
    " \"\"\""
   ]
  },
  {
   "attachments": {},
   "cell_type": "markdown",
   "id": "de658fd0",
   "metadata": {},
   "source": [
    "💬 **Comment:**\n",
    "> Blueprinted prompt activates specific semantic dimensions that guide the model toward deeper reasoning and richer, more structured output."
   ]
  },
  {
   "attachments": {},
   "cell_type": "markdown",
   "id": "ec5556a4",
   "metadata": {},
   "source": [
    "## 🤝 Prompt C: Coaching-Style Interaction"
   ]
  },
  {
   "cell_type": "code",
   "execution_count": null,
   "id": "7fcdfe3c",
   "metadata": {},
   "outputs": [],
   "source": [
    "prompt_c = \"\"\"I'm trying to understand what kind of matcha best fits my lifestyle.\n",
    "Can you guide me through a few questions to uncover what matters most to me—\n",
    "such as flavor, ritual, health, or cultural connection—then make a suggestion?\"\"\"\n",
    "\n",
    "call_model(prompt_c)\n",
    "\"\"\"\n",
    "Absolutely—let’s explore your preferences around flavor, daily rituals, health goals, \n",
    "and cultural interest to find your perfect matcha fit.\n",
    "\"\"\""
   ]
  },
  {
   "attachments": {},
   "cell_type": "markdown",
   "id": "b0b3b324",
   "metadata": {},
   "source": [
    "💬 **Comment:**\n",
    "> Coaching-style prompt invites a personalized interaction. The model shifts into a 'guide' role, co-creating intent with the user."
   ]
  },
  {
   "attachments": {},
   "cell_type": "markdown",
   "id": "e3934495",
   "metadata": {},
   "source": [
    "## 🪞 Reflection & Comparison\n",
    "\n",
    "| Prompt Style       | Depth of Output | Personalization | Structure |\n",
    "|--------------------|------------------|------------------|-----------|\n",
    "| Shallow Prompt     | Low              | No               | None      |\n",
    "| Blueprint Prompt   | High             | Moderate         | Strong    |\n",
    "| Coaching Prompt    | Medium-High      | High             | Emergent  |\n",
    "\n",
    "- 🧠 **Blueprinting** activates multiple reasoning paths explicitly.\n",
    "- 🤝 **Coaching** invites intent discovery and reflection.\n",
    "- 🧩 Both far outperform generic prompting for complex, semantic tasks."
   ]
  }
 ],
 "metadata": {
  "language_info": {
   "name": "python"
  }
 },
 "nbformat": 4,
 "nbformat_minor": 5
}
